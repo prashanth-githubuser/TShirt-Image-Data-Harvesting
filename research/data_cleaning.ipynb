{
 "cells": [
  {
   "cell_type": "code",
   "execution_count": 2,
   "metadata": {},
   "outputs": [],
   "source": [
    "from pathlib import Path\n",
    "import pandas as pd"
   ]
  },
  {
   "cell_type": "code",
   "execution_count": 108,
   "metadata": {},
   "outputs": [
    {
     "data": {
      "text/plain": [
       "[WindowsPath('D:/Python/Test/selenium/artifacts/metadata/tshirts_21_01_24_pg434_cp_19200.csv'),\n",
       " WindowsPath('D:/Python/Test/selenium/artifacts/metadata/tshirts_21_01_24_pg50_cp_2500.csv'),\n",
       " WindowsPath('D:/Python/Test/selenium/artifacts/metadata/tshirts_22_01_24_pg1034_cp_10043.csv'),\n",
       " WindowsPath('D:/Python/Test/selenium/artifacts/metadata/tshirts_22_01_24_pg1085_cp_2539.csv'),\n",
       " WindowsPath('D:/Python/Test/selenium/artifacts/metadata/tshirts_22_01_24_pg1135_cp_2500.csv'),\n",
       " WindowsPath('D:/Python/Test/selenium/artifacts/metadata/tshirts_22_01_24_pg1635_cp_25000.csv'),\n",
       " WindowsPath('D:/Python/Test/selenium/artifacts/metadata/tshirts_22_01_24_pg1638_cp_150.csv'),\n",
       " WindowsPath('D:/Python/Test/selenium/artifacts/metadata/tshirts_22_01_24_pg1788_cp_7500.csv'),\n",
       " WindowsPath('D:/Python/Test/selenium/artifacts/metadata/tshirts_22_01_24_pg1900_cp_5500.csv'),\n",
       " WindowsPath('D:/Python/Test/selenium/artifacts/metadata/tshirts_22_01_24_pg2170_cp_13500.csv'),\n",
       " WindowsPath('D:/Python/Test/selenium/artifacts/metadata/tshirts_22_01_24_pg2370_cp_10000.csv'),\n",
       " WindowsPath('D:/Python/Test/selenium/artifacts/metadata/tshirts_22_01_24_pg2460_cp_4489.csv'),\n",
       " WindowsPath('D:/Python/Test/selenium/artifacts/metadata/tshirts_22_01_24_pg824_cp_19500.csv')]"
      ]
     },
     "execution_count": 108,
     "metadata": {},
     "output_type": "execute_result"
    }
   ],
   "source": [
    "image_path = Path(r'D:\\Python\\Test\\selenium\\artifacts\\metadata') \n",
    "csv_path_list = list(image_path.glob(\"*.csv\"))\n",
    "len(csv_path_list)\n",
    "csv_path_list"
   ]
  },
  {
   "cell_type": "code",
   "execution_count": 109,
   "metadata": {},
   "outputs": [
    {
     "data": {
      "text/plain": [
       "WindowsPath('D:/Python/Test/selenium/artifacts/metadata/tshirts_21_01_24_pg434_cp_19200.csv')"
      ]
     },
     "execution_count": 109,
     "metadata": {},
     "output_type": "execute_result"
    }
   ],
   "source": []
  },
  {
   "cell_type": "code",
   "execution_count": 77,
   "metadata": {},
   "outputs": [],
   "source": [
    "details = {'FileName':[], 'DistinctCount':[], 'DuplicateCount':[]}\n",
    "for path in csv_path_list:\n",
    "    df = pd.read_csv(path)\n",
    "    result = df['ZoomedImages'].duplicated().value_counts().to_dict()\n",
    "    details['FileName'].append(path.name)\n",
    "    details['DistinctCount'].append(result[False])\n",
    "    details['DuplicateCount'].append(result[True])\n",
    "df_ = pd.DataFrame(details)"
   ]
  },
  {
   "cell_type": "code",
   "execution_count": 89,
   "metadata": {},
   "outputs": [],
   "source": [
    "details = {'FileName':[], 'DistinctCount':[], 'DuplicateCount':[]}\n",
    "for path in csv_path_list:\n",
    "    df = pd.read_csv(path)\n",
    "    result = df['ProductLink'].duplicated().value_counts().to_dict()\n",
    "    details['FileName'].append(path.name)\n",
    "    details['DistinctCount'].append(result[False])\n",
    "    details['DuplicateCount'].append(result[True])\n",
    "df = pd.DataFrame(details)"
   ]
  },
  {
   "cell_type": "code",
   "execution_count": 90,
   "metadata": {},
   "outputs": [
    {
     "data": {
      "text/html": [
       "<div>\n",
       "<style scoped>\n",
       "    .dataframe tbody tr th:only-of-type {\n",
       "        vertical-align: middle;\n",
       "    }\n",
       "\n",
       "    .dataframe tbody tr th {\n",
       "        vertical-align: top;\n",
       "    }\n",
       "\n",
       "    .dataframe thead th {\n",
       "        text-align: right;\n",
       "    }\n",
       "</style>\n",
       "<table border=\"1\" class=\"dataframe\">\n",
       "  <thead>\n",
       "    <tr style=\"text-align: right;\">\n",
       "      <th></th>\n",
       "      <th>FileName</th>\n",
       "      <th>DistinctCount</th>\n",
       "      <th>DuplicateCount</th>\n",
       "    </tr>\n",
       "  </thead>\n",
       "  <tbody>\n",
       "    <tr>\n",
       "      <th>0</th>\n",
       "      <td>tshirts_21_01_24_pg434_cp_19200.csv</td>\n",
       "      <td>19111</td>\n",
       "      <td>89</td>\n",
       "    </tr>\n",
       "    <tr>\n",
       "      <th>1</th>\n",
       "      <td>tshirts_21_01_24_pg50_cp_2500.csv</td>\n",
       "      <td>2485</td>\n",
       "      <td>15</td>\n",
       "    </tr>\n",
       "    <tr>\n",
       "      <th>2</th>\n",
       "      <td>tshirts_22_01_24_pg1034_cp_10043.csv</td>\n",
       "      <td>9983</td>\n",
       "      <td>60</td>\n",
       "    </tr>\n",
       "    <tr>\n",
       "      <th>3</th>\n",
       "      <td>tshirts_22_01_24_pg1085_cp_2539.csv</td>\n",
       "      <td>2494</td>\n",
       "      <td>45</td>\n",
       "    </tr>\n",
       "    <tr>\n",
       "      <th>4</th>\n",
       "      <td>tshirts_22_01_24_pg1135_cp_2500.csv</td>\n",
       "      <td>2435</td>\n",
       "      <td>65</td>\n",
       "    </tr>\n",
       "    <tr>\n",
       "      <th>5</th>\n",
       "      <td>tshirts_22_01_24_pg1635_cp_25000.csv</td>\n",
       "      <td>24225</td>\n",
       "      <td>775</td>\n",
       "    </tr>\n",
       "    <tr>\n",
       "      <th>6</th>\n",
       "      <td>tshirts_22_01_24_pg1638_cp_150.csv</td>\n",
       "      <td>138</td>\n",
       "      <td>12</td>\n",
       "    </tr>\n",
       "    <tr>\n",
       "      <th>7</th>\n",
       "      <td>tshirts_22_01_24_pg1788_cp_7500.csv</td>\n",
       "      <td>7353</td>\n",
       "      <td>147</td>\n",
       "    </tr>\n",
       "    <tr>\n",
       "      <th>8</th>\n",
       "      <td>tshirts_22_01_24_pg1900_cp_5500.csv</td>\n",
       "      <td>5337</td>\n",
       "      <td>163</td>\n",
       "    </tr>\n",
       "    <tr>\n",
       "      <th>9</th>\n",
       "      <td>tshirts_22_01_24_pg2170_cp_13500.csv</td>\n",
       "      <td>13122</td>\n",
       "      <td>378</td>\n",
       "    </tr>\n",
       "    <tr>\n",
       "      <th>10</th>\n",
       "      <td>tshirts_22_01_24_pg2370_cp_10000.csv</td>\n",
       "      <td>9858</td>\n",
       "      <td>142</td>\n",
       "    </tr>\n",
       "    <tr>\n",
       "      <th>11</th>\n",
       "      <td>tshirts_22_01_24_pg2460_cp_4489.csv</td>\n",
       "      <td>4401</td>\n",
       "      <td>88</td>\n",
       "    </tr>\n",
       "    <tr>\n",
       "      <th>12</th>\n",
       "      <td>tshirts_22_01_24_pg824_cp_19500.csv</td>\n",
       "      <td>19416</td>\n",
       "      <td>84</td>\n",
       "    </tr>\n",
       "  </tbody>\n",
       "</table>\n",
       "</div>"
      ],
      "text/plain": [
       "                                FileName  DistinctCount  DuplicateCount\n",
       "0    tshirts_21_01_24_pg434_cp_19200.csv          19111              89\n",
       "1      tshirts_21_01_24_pg50_cp_2500.csv           2485              15\n",
       "2   tshirts_22_01_24_pg1034_cp_10043.csv           9983              60\n",
       "3    tshirts_22_01_24_pg1085_cp_2539.csv           2494              45\n",
       "4    tshirts_22_01_24_pg1135_cp_2500.csv           2435              65\n",
       "5   tshirts_22_01_24_pg1635_cp_25000.csv          24225             775\n",
       "6     tshirts_22_01_24_pg1638_cp_150.csv            138              12\n",
       "7    tshirts_22_01_24_pg1788_cp_7500.csv           7353             147\n",
       "8    tshirts_22_01_24_pg1900_cp_5500.csv           5337             163\n",
       "9   tshirts_22_01_24_pg2170_cp_13500.csv          13122             378\n",
       "10  tshirts_22_01_24_pg2370_cp_10000.csv           9858             142\n",
       "11   tshirts_22_01_24_pg2460_cp_4489.csv           4401              88\n",
       "12   tshirts_22_01_24_pg824_cp_19500.csv          19416              84"
      ]
     },
     "execution_count": 90,
     "metadata": {},
     "output_type": "execute_result"
    }
   ],
   "source": [
    "df # ProductLinks"
   ]
  },
  {
   "cell_type": "code",
   "execution_count": 91,
   "metadata": {},
   "outputs": [
    {
     "data": {
      "text/html": [
       "<div>\n",
       "<style scoped>\n",
       "    .dataframe tbody tr th:only-of-type {\n",
       "        vertical-align: middle;\n",
       "    }\n",
       "\n",
       "    .dataframe tbody tr th {\n",
       "        vertical-align: top;\n",
       "    }\n",
       "\n",
       "    .dataframe thead th {\n",
       "        text-align: right;\n",
       "    }\n",
       "</style>\n",
       "<table border=\"1\" class=\"dataframe\">\n",
       "  <thead>\n",
       "    <tr style=\"text-align: right;\">\n",
       "      <th></th>\n",
       "      <th>FileName</th>\n",
       "      <th>DistinctCount</th>\n",
       "      <th>DuplicateCount</th>\n",
       "    </tr>\n",
       "  </thead>\n",
       "  <tbody>\n",
       "    <tr>\n",
       "      <th>0</th>\n",
       "      <td>tshirts_21_01_24_pg434_cp_19200.csv</td>\n",
       "      <td>4274</td>\n",
       "      <td>14926</td>\n",
       "    </tr>\n",
       "    <tr>\n",
       "      <th>1</th>\n",
       "      <td>tshirts_21_01_24_pg50_cp_2500.csv</td>\n",
       "      <td>550</td>\n",
       "      <td>1950</td>\n",
       "    </tr>\n",
       "    <tr>\n",
       "      <th>2</th>\n",
       "      <td>tshirts_22_01_24_pg1034_cp_10043.csv</td>\n",
       "      <td>2211</td>\n",
       "      <td>7832</td>\n",
       "    </tr>\n",
       "    <tr>\n",
       "      <th>3</th>\n",
       "      <td>tshirts_22_01_24_pg1085_cp_2539.csv</td>\n",
       "      <td>558</td>\n",
       "      <td>1981</td>\n",
       "    </tr>\n",
       "    <tr>\n",
       "      <th>4</th>\n",
       "      <td>tshirts_22_01_24_pg1135_cp_2500.csv</td>\n",
       "      <td>548</td>\n",
       "      <td>1952</td>\n",
       "    </tr>\n",
       "    <tr>\n",
       "      <th>5</th>\n",
       "      <td>tshirts_22_01_24_pg1635_cp_25000.csv</td>\n",
       "      <td>5484</td>\n",
       "      <td>19516</td>\n",
       "    </tr>\n",
       "    <tr>\n",
       "      <th>6</th>\n",
       "      <td>tshirts_22_01_24_pg1638_cp_150.csv</td>\n",
       "      <td>32</td>\n",
       "      <td>118</td>\n",
       "    </tr>\n",
       "    <tr>\n",
       "      <th>7</th>\n",
       "      <td>tshirts_22_01_24_pg1788_cp_7500.csv</td>\n",
       "      <td>1650</td>\n",
       "      <td>5850</td>\n",
       "    </tr>\n",
       "    <tr>\n",
       "      <th>8</th>\n",
       "      <td>tshirts_22_01_24_pg1900_cp_5500.csv</td>\n",
       "      <td>1210</td>\n",
       "      <td>4290</td>\n",
       "    </tr>\n",
       "    <tr>\n",
       "      <th>9</th>\n",
       "      <td>tshirts_22_01_24_pg2170_cp_13500.csv</td>\n",
       "      <td>2968</td>\n",
       "      <td>10532</td>\n",
       "    </tr>\n",
       "    <tr>\n",
       "      <th>10</th>\n",
       "      <td>tshirts_22_01_24_pg2370_cp_10000.csv</td>\n",
       "      <td>2271</td>\n",
       "      <td>7729</td>\n",
       "    </tr>\n",
       "    <tr>\n",
       "      <th>11</th>\n",
       "      <td>tshirts_22_01_24_pg2460_cp_4489.csv</td>\n",
       "      <td>990</td>\n",
       "      <td>3499</td>\n",
       "    </tr>\n",
       "    <tr>\n",
       "      <th>12</th>\n",
       "      <td>tshirts_22_01_24_pg824_cp_19500.csv</td>\n",
       "      <td>4300</td>\n",
       "      <td>15200</td>\n",
       "    </tr>\n",
       "  </tbody>\n",
       "</table>\n",
       "</div>"
      ],
      "text/plain": [
       "                                FileName  DistinctCount  DuplicateCount\n",
       "0    tshirts_21_01_24_pg434_cp_19200.csv           4274           14926\n",
       "1      tshirts_21_01_24_pg50_cp_2500.csv            550            1950\n",
       "2   tshirts_22_01_24_pg1034_cp_10043.csv           2211            7832\n",
       "3    tshirts_22_01_24_pg1085_cp_2539.csv            558            1981\n",
       "4    tshirts_22_01_24_pg1135_cp_2500.csv            548            1952\n",
       "5   tshirts_22_01_24_pg1635_cp_25000.csv           5484           19516\n",
       "6     tshirts_22_01_24_pg1638_cp_150.csv             32             118\n",
       "7    tshirts_22_01_24_pg1788_cp_7500.csv           1650            5850\n",
       "8    tshirts_22_01_24_pg1900_cp_5500.csv           1210            4290\n",
       "9   tshirts_22_01_24_pg2170_cp_13500.csv           2968           10532\n",
       "10  tshirts_22_01_24_pg2370_cp_10000.csv           2271            7729\n",
       "11   tshirts_22_01_24_pg2460_cp_4489.csv            990            3499\n",
       "12   tshirts_22_01_24_pg824_cp_19500.csv           4300           15200"
      ]
     },
     "execution_count": 91,
     "metadata": {},
     "output_type": "execute_result"
    }
   ],
   "source": [
    "df_ # ZoomedImages"
   ]
  },
  {
   "cell_type": "code",
   "execution_count": 92,
   "metadata": {},
   "outputs": [
    {
     "data": {
      "text/html": [
       "<div>\n",
       "<style scoped>\n",
       "    .dataframe tbody tr th:only-of-type {\n",
       "        vertical-align: middle;\n",
       "    }\n",
       "\n",
       "    .dataframe tbody tr th {\n",
       "        vertical-align: top;\n",
       "    }\n",
       "\n",
       "    .dataframe thead th {\n",
       "        text-align: right;\n",
       "    }\n",
       "</style>\n",
       "<table border=\"1\" class=\"dataframe\">\n",
       "  <thead>\n",
       "    <tr style=\"text-align: right;\">\n",
       "      <th></th>\n",
       "      <th>Distinct_Count</th>\n",
       "      <th>Duplicate_Count</th>\n",
       "      <th>Total</th>\n",
       "    </tr>\n",
       "  </thead>\n",
       "  <tbody>\n",
       "    <tr>\n",
       "      <th>0</th>\n",
       "      <td>27046</td>\n",
       "      <td>95375</td>\n",
       "      <td>122421</td>\n",
       "    </tr>\n",
       "  </tbody>\n",
       "</table>\n",
       "</div>"
      ],
      "text/plain": [
       "   Distinct_Count  Duplicate_Count   Total\n",
       "0           27046            95375  122421"
      ]
     },
     "execution_count": 92,
     "metadata": {},
     "output_type": "execute_result"
    }
   ],
   "source": [
    "# ZoomedImages\n",
    "result_ = {\"Distinct_Count\":df_['DistinctCount'].sum(),\n",
    "          \"Duplicate_Count\":df_['DuplicateCount'].sum(),\n",
    "          \"Total\":df_['DistinctCount'].sum() + df_['DuplicateCount'].sum()}\n",
    "result_df_ = pd.DataFrame([result_])\n",
    "result_df_ "
   ]
  },
  {
   "cell_type": "code",
   "execution_count": 94,
   "metadata": {},
   "outputs": [
    {
     "data": {
      "text/html": [
       "<div>\n",
       "<style scoped>\n",
       "    .dataframe tbody tr th:only-of-type {\n",
       "        vertical-align: middle;\n",
       "    }\n",
       "\n",
       "    .dataframe tbody tr th {\n",
       "        vertical-align: top;\n",
       "    }\n",
       "\n",
       "    .dataframe thead th {\n",
       "        text-align: right;\n",
       "    }\n",
       "</style>\n",
       "<table border=\"1\" class=\"dataframe\">\n",
       "  <thead>\n",
       "    <tr style=\"text-align: right;\">\n",
       "      <th></th>\n",
       "      <th>Distinct_Count</th>\n",
       "      <th>Duplicate_Count</th>\n",
       "      <th>Total</th>\n",
       "    </tr>\n",
       "  </thead>\n",
       "  <tbody>\n",
       "    <tr>\n",
       "      <th>0</th>\n",
       "      <td>120358</td>\n",
       "      <td>2063</td>\n",
       "      <td>122421</td>\n",
       "    </tr>\n",
       "  </tbody>\n",
       "</table>\n",
       "</div>"
      ],
      "text/plain": [
       "   Distinct_Count  Duplicate_Count   Total\n",
       "0          120358             2063  122421"
      ]
     },
     "execution_count": 94,
     "metadata": {},
     "output_type": "execute_result"
    }
   ],
   "source": [
    "# ProductLinks\n",
    "result = {\"Distinct_Count\":df['DistinctCount'].sum(),\n",
    "          \"Duplicate_Count\":df['DuplicateCount'].sum(),\n",
    "          \"Total\":df['DistinctCount'].sum() + df['DuplicateCount'].sum()}\n",
    "result_df = pd.DataFrame([result])\n",
    "result_df"
   ]
  },
  {
   "cell_type": "code",
   "execution_count": 97,
   "metadata": {},
   "outputs": [
    {
     "data": {
      "text/plain": [
       "True"
      ]
     },
     "execution_count": 97,
     "metadata": {},
     "output_type": "execute_result"
    }
   ],
   "source": [
    "result_df['Distinct_Count' ].sum() > result_df_['Distinct_Count'].sum()"
   ]
  },
  {
   "cell_type": "code",
   "execution_count": 35,
   "metadata": {},
   "outputs": [
    {
     "data": {
      "text/plain": [
       "122421"
      ]
     },
     "execution_count": 35,
     "metadata": {},
     "output_type": "execute_result"
    }
   ],
   "source": [
    "df['DistinctCount'].sum() + df['DuplicateCount'].sum()"
   ]
  },
  {
   "cell_type": "code",
   "execution_count": null,
   "metadata": {},
   "outputs": [],
   "source": []
  },
  {
   "cell_type": "code",
   "execution_count": 116,
   "metadata": {},
   "outputs": [],
   "source": [
    "for path_root in csv_path_list:\n",
    "    df = pd.read_csv(path_root)\n",
    "    path_out = Path(f\"{path_root.parent}\\cleaned_metadata\")\n",
    "    df.drop_duplicates(subset='ProductLink', inplace=True)\n",
    "    path_out.mkdir(parents=True, exist_ok=True)  # Create the output directory if it doesn't exist\n",
    "    df.to_csv(path_out / path_root.name, index=False, encoding='utf-8-sig')\n",
    "\n",
    "    \n"
   ]
  },
  {
   "cell_type": "code",
   "execution_count": 31,
   "metadata": {},
   "outputs": [
    {
     "data": {
      "application/vnd.plotly.v1+json": {
       "config": {
        "plotlyServerURL": "https://plot.ly"
       },
       "data": [
        {
         "alignmentgroup": "True",
         "hovertemplate": "Type=DistinctCount<br>FileName=%{x}<br>Count=%{y}<extra></extra>",
         "legendgroup": "DistinctCount",
         "marker": {
          "color": "#3498db",
          "pattern": {
           "shape": ""
          }
         },
         "name": "DistinctCount",
         "offsetgroup": "DistinctCount",
         "orientation": "v",
         "showlegend": true,
         "textposition": "auto",
         "type": "bar",
         "x": [
          "tshirts_21_01_24_pg434_cp_19200.csv",
          "tshirts_21_01_24_pg50_cp_2500.csv",
          "tshirts_22_01_24_pg1034_cp_10043.csv",
          "tshirts_22_01_24_pg1085_cp_2539.csv",
          "tshirts_22_01_24_pg1135_cp_2500.csv",
          "tshirts_22_01_24_pg1635_cp_25000.csv",
          "tshirts_22_01_24_pg1638_cp_150.csv",
          "tshirts_22_01_24_pg1788_cp_7500.csv",
          "tshirts_22_01_24_pg1900_cp_5500.csv",
          "tshirts_22_01_24_pg2170_cp_13500.csv",
          "tshirts_22_01_24_pg2370_cp_10000.csv",
          "tshirts_22_01_24_pg2460_cp_4489.csv",
          "tshirts_22_01_24_pg824_cp_19500.csv"
         ],
         "xaxis": "x",
         "y": [
          19111,
          2485,
          9983,
          2494,
          2435,
          24225,
          138,
          7353,
          5337,
          13122,
          9858,
          4401,
          19416
         ],
         "yaxis": "y"
        },
        {
         "alignmentgroup": "True",
         "hovertemplate": "Type=DuplicateCount<br>FileName=%{x}<br>Count=%{y}<extra></extra>",
         "legendgroup": "DuplicateCount",
         "marker": {
          "color": "#e74c3c",
          "pattern": {
           "shape": ""
          }
         },
         "name": "DuplicateCount",
         "offsetgroup": "DuplicateCount",
         "orientation": "v",
         "showlegend": true,
         "textposition": "auto",
         "type": "bar",
         "x": [
          "tshirts_21_01_24_pg434_cp_19200.csv",
          "tshirts_21_01_24_pg50_cp_2500.csv",
          "tshirts_22_01_24_pg1034_cp_10043.csv",
          "tshirts_22_01_24_pg1085_cp_2539.csv",
          "tshirts_22_01_24_pg1135_cp_2500.csv",
          "tshirts_22_01_24_pg1635_cp_25000.csv",
          "tshirts_22_01_24_pg1638_cp_150.csv",
          "tshirts_22_01_24_pg1788_cp_7500.csv",
          "tshirts_22_01_24_pg1900_cp_5500.csv",
          "tshirts_22_01_24_pg2170_cp_13500.csv",
          "tshirts_22_01_24_pg2370_cp_10000.csv",
          "tshirts_22_01_24_pg2460_cp_4489.csv",
          "tshirts_22_01_24_pg824_cp_19500.csv"
         ],
         "xaxis": "x",
         "y": [
          89,
          15,
          60,
          45,
          65,
          775,
          12,
          147,
          163,
          378,
          142,
          88,
          84
         ],
         "yaxis": "y"
        }
       ],
       "layout": {
        "barmode": "relative",
        "legend": {
         "title": {
          "text": "Type"
         },
         "tracegroupgap": 0
        },
        "template": {
         "data": {
          "bar": [
           {
            "error_x": {
             "color": "#2a3f5f"
            },
            "error_y": {
             "color": "#2a3f5f"
            },
            "marker": {
             "line": {
              "color": "#E5ECF6",
              "width": 0.5
             },
             "pattern": {
              "fillmode": "overlay",
              "size": 10,
              "solidity": 0.2
             }
            },
            "type": "bar"
           }
          ],
          "barpolar": [
           {
            "marker": {
             "line": {
              "color": "#E5ECF6",
              "width": 0.5
             },
             "pattern": {
              "fillmode": "overlay",
              "size": 10,
              "solidity": 0.2
             }
            },
            "type": "barpolar"
           }
          ],
          "carpet": [
           {
            "aaxis": {
             "endlinecolor": "#2a3f5f",
             "gridcolor": "white",
             "linecolor": "white",
             "minorgridcolor": "white",
             "startlinecolor": "#2a3f5f"
            },
            "baxis": {
             "endlinecolor": "#2a3f5f",
             "gridcolor": "white",
             "linecolor": "white",
             "minorgridcolor": "white",
             "startlinecolor": "#2a3f5f"
            },
            "type": "carpet"
           }
          ],
          "choropleth": [
           {
            "colorbar": {
             "outlinewidth": 0,
             "ticks": ""
            },
            "type": "choropleth"
           }
          ],
          "contour": [
           {
            "colorbar": {
             "outlinewidth": 0,
             "ticks": ""
            },
            "colorscale": [
             [
              0,
              "#0d0887"
             ],
             [
              0.1111111111111111,
              "#46039f"
             ],
             [
              0.2222222222222222,
              "#7201a8"
             ],
             [
              0.3333333333333333,
              "#9c179e"
             ],
             [
              0.4444444444444444,
              "#bd3786"
             ],
             [
              0.5555555555555556,
              "#d8576b"
             ],
             [
              0.6666666666666666,
              "#ed7953"
             ],
             [
              0.7777777777777778,
              "#fb9f3a"
             ],
             [
              0.8888888888888888,
              "#fdca26"
             ],
             [
              1,
              "#f0f921"
             ]
            ],
            "type": "contour"
           }
          ],
          "contourcarpet": [
           {
            "colorbar": {
             "outlinewidth": 0,
             "ticks": ""
            },
            "type": "contourcarpet"
           }
          ],
          "heatmap": [
           {
            "colorbar": {
             "outlinewidth": 0,
             "ticks": ""
            },
            "colorscale": [
             [
              0,
              "#0d0887"
             ],
             [
              0.1111111111111111,
              "#46039f"
             ],
             [
              0.2222222222222222,
              "#7201a8"
             ],
             [
              0.3333333333333333,
              "#9c179e"
             ],
             [
              0.4444444444444444,
              "#bd3786"
             ],
             [
              0.5555555555555556,
              "#d8576b"
             ],
             [
              0.6666666666666666,
              "#ed7953"
             ],
             [
              0.7777777777777778,
              "#fb9f3a"
             ],
             [
              0.8888888888888888,
              "#fdca26"
             ],
             [
              1,
              "#f0f921"
             ]
            ],
            "type": "heatmap"
           }
          ],
          "heatmapgl": [
           {
            "colorbar": {
             "outlinewidth": 0,
             "ticks": ""
            },
            "colorscale": [
             [
              0,
              "#0d0887"
             ],
             [
              0.1111111111111111,
              "#46039f"
             ],
             [
              0.2222222222222222,
              "#7201a8"
             ],
             [
              0.3333333333333333,
              "#9c179e"
             ],
             [
              0.4444444444444444,
              "#bd3786"
             ],
             [
              0.5555555555555556,
              "#d8576b"
             ],
             [
              0.6666666666666666,
              "#ed7953"
             ],
             [
              0.7777777777777778,
              "#fb9f3a"
             ],
             [
              0.8888888888888888,
              "#fdca26"
             ],
             [
              1,
              "#f0f921"
             ]
            ],
            "type": "heatmapgl"
           }
          ],
          "histogram": [
           {
            "marker": {
             "pattern": {
              "fillmode": "overlay",
              "size": 10,
              "solidity": 0.2
             }
            },
            "type": "histogram"
           }
          ],
          "histogram2d": [
           {
            "colorbar": {
             "outlinewidth": 0,
             "ticks": ""
            },
            "colorscale": [
             [
              0,
              "#0d0887"
             ],
             [
              0.1111111111111111,
              "#46039f"
             ],
             [
              0.2222222222222222,
              "#7201a8"
             ],
             [
              0.3333333333333333,
              "#9c179e"
             ],
             [
              0.4444444444444444,
              "#bd3786"
             ],
             [
              0.5555555555555556,
              "#d8576b"
             ],
             [
              0.6666666666666666,
              "#ed7953"
             ],
             [
              0.7777777777777778,
              "#fb9f3a"
             ],
             [
              0.8888888888888888,
              "#fdca26"
             ],
             [
              1,
              "#f0f921"
             ]
            ],
            "type": "histogram2d"
           }
          ],
          "histogram2dcontour": [
           {
            "colorbar": {
             "outlinewidth": 0,
             "ticks": ""
            },
            "colorscale": [
             [
              0,
              "#0d0887"
             ],
             [
              0.1111111111111111,
              "#46039f"
             ],
             [
              0.2222222222222222,
              "#7201a8"
             ],
             [
              0.3333333333333333,
              "#9c179e"
             ],
             [
              0.4444444444444444,
              "#bd3786"
             ],
             [
              0.5555555555555556,
              "#d8576b"
             ],
             [
              0.6666666666666666,
              "#ed7953"
             ],
             [
              0.7777777777777778,
              "#fb9f3a"
             ],
             [
              0.8888888888888888,
              "#fdca26"
             ],
             [
              1,
              "#f0f921"
             ]
            ],
            "type": "histogram2dcontour"
           }
          ],
          "mesh3d": [
           {
            "colorbar": {
             "outlinewidth": 0,
             "ticks": ""
            },
            "type": "mesh3d"
           }
          ],
          "parcoords": [
           {
            "line": {
             "colorbar": {
              "outlinewidth": 0,
              "ticks": ""
             }
            },
            "type": "parcoords"
           }
          ],
          "pie": [
           {
            "automargin": true,
            "type": "pie"
           }
          ],
          "scatter": [
           {
            "fillpattern": {
             "fillmode": "overlay",
             "size": 10,
             "solidity": 0.2
            },
            "type": "scatter"
           }
          ],
          "scatter3d": [
           {
            "line": {
             "colorbar": {
              "outlinewidth": 0,
              "ticks": ""
             }
            },
            "marker": {
             "colorbar": {
              "outlinewidth": 0,
              "ticks": ""
             }
            },
            "type": "scatter3d"
           }
          ],
          "scattercarpet": [
           {
            "marker": {
             "colorbar": {
              "outlinewidth": 0,
              "ticks": ""
             }
            },
            "type": "scattercarpet"
           }
          ],
          "scattergeo": [
           {
            "marker": {
             "colorbar": {
              "outlinewidth": 0,
              "ticks": ""
             }
            },
            "type": "scattergeo"
           }
          ],
          "scattergl": [
           {
            "marker": {
             "colorbar": {
              "outlinewidth": 0,
              "ticks": ""
             }
            },
            "type": "scattergl"
           }
          ],
          "scattermapbox": [
           {
            "marker": {
             "colorbar": {
              "outlinewidth": 0,
              "ticks": ""
             }
            },
            "type": "scattermapbox"
           }
          ],
          "scatterpolar": [
           {
            "marker": {
             "colorbar": {
              "outlinewidth": 0,
              "ticks": ""
             }
            },
            "type": "scatterpolar"
           }
          ],
          "scatterpolargl": [
           {
            "marker": {
             "colorbar": {
              "outlinewidth": 0,
              "ticks": ""
             }
            },
            "type": "scatterpolargl"
           }
          ],
          "scatterternary": [
           {
            "marker": {
             "colorbar": {
              "outlinewidth": 0,
              "ticks": ""
             }
            },
            "type": "scatterternary"
           }
          ],
          "surface": [
           {
            "colorbar": {
             "outlinewidth": 0,
             "ticks": ""
            },
            "colorscale": [
             [
              0,
              "#0d0887"
             ],
             [
              0.1111111111111111,
              "#46039f"
             ],
             [
              0.2222222222222222,
              "#7201a8"
             ],
             [
              0.3333333333333333,
              "#9c179e"
             ],
             [
              0.4444444444444444,
              "#bd3786"
             ],
             [
              0.5555555555555556,
              "#d8576b"
             ],
             [
              0.6666666666666666,
              "#ed7953"
             ],
             [
              0.7777777777777778,
              "#fb9f3a"
             ],
             [
              0.8888888888888888,
              "#fdca26"
             ],
             [
              1,
              "#f0f921"
             ]
            ],
            "type": "surface"
           }
          ],
          "table": [
           {
            "cells": {
             "fill": {
              "color": "#EBF0F8"
             },
             "line": {
              "color": "white"
             }
            },
            "header": {
             "fill": {
              "color": "#C8D4E3"
             },
             "line": {
              "color": "white"
             }
            },
            "type": "table"
           }
          ]
         },
         "layout": {
          "annotationdefaults": {
           "arrowcolor": "#2a3f5f",
           "arrowhead": 0,
           "arrowwidth": 1
          },
          "autotypenumbers": "strict",
          "coloraxis": {
           "colorbar": {
            "outlinewidth": 0,
            "ticks": ""
           }
          },
          "colorscale": {
           "diverging": [
            [
             0,
             "#8e0152"
            ],
            [
             0.1,
             "#c51b7d"
            ],
            [
             0.2,
             "#de77ae"
            ],
            [
             0.3,
             "#f1b6da"
            ],
            [
             0.4,
             "#fde0ef"
            ],
            [
             0.5,
             "#f7f7f7"
            ],
            [
             0.6,
             "#e6f5d0"
            ],
            [
             0.7,
             "#b8e186"
            ],
            [
             0.8,
             "#7fbc41"
            ],
            [
             0.9,
             "#4d9221"
            ],
            [
             1,
             "#276419"
            ]
           ],
           "sequential": [
            [
             0,
             "#0d0887"
            ],
            [
             0.1111111111111111,
             "#46039f"
            ],
            [
             0.2222222222222222,
             "#7201a8"
            ],
            [
             0.3333333333333333,
             "#9c179e"
            ],
            [
             0.4444444444444444,
             "#bd3786"
            ],
            [
             0.5555555555555556,
             "#d8576b"
            ],
            [
             0.6666666666666666,
             "#ed7953"
            ],
            [
             0.7777777777777778,
             "#fb9f3a"
            ],
            [
             0.8888888888888888,
             "#fdca26"
            ],
            [
             1,
             "#f0f921"
            ]
           ],
           "sequentialminus": [
            [
             0,
             "#0d0887"
            ],
            [
             0.1111111111111111,
             "#46039f"
            ],
            [
             0.2222222222222222,
             "#7201a8"
            ],
            [
             0.3333333333333333,
             "#9c179e"
            ],
            [
             0.4444444444444444,
             "#bd3786"
            ],
            [
             0.5555555555555556,
             "#d8576b"
            ],
            [
             0.6666666666666666,
             "#ed7953"
            ],
            [
             0.7777777777777778,
             "#fb9f3a"
            ],
            [
             0.8888888888888888,
             "#fdca26"
            ],
            [
             1,
             "#f0f921"
            ]
           ]
          },
          "colorway": [
           "#636efa",
           "#EF553B",
           "#00cc96",
           "#ab63fa",
           "#FFA15A",
           "#19d3f3",
           "#FF6692",
           "#B6E880",
           "#FF97FF",
           "#FECB52"
          ],
          "font": {
           "color": "#2a3f5f"
          },
          "geo": {
           "bgcolor": "white",
           "lakecolor": "white",
           "landcolor": "#E5ECF6",
           "showlakes": true,
           "showland": true,
           "subunitcolor": "white"
          },
          "hoverlabel": {
           "align": "left"
          },
          "hovermode": "closest",
          "mapbox": {
           "style": "light"
          },
          "paper_bgcolor": "white",
          "plot_bgcolor": "#E5ECF6",
          "polar": {
           "angularaxis": {
            "gridcolor": "white",
            "linecolor": "white",
            "ticks": ""
           },
           "bgcolor": "#E5ECF6",
           "radialaxis": {
            "gridcolor": "white",
            "linecolor": "white",
            "ticks": ""
           }
          },
          "scene": {
           "xaxis": {
            "backgroundcolor": "#E5ECF6",
            "gridcolor": "white",
            "gridwidth": 2,
            "linecolor": "white",
            "showbackground": true,
            "ticks": "",
            "zerolinecolor": "white"
           },
           "yaxis": {
            "backgroundcolor": "#E5ECF6",
            "gridcolor": "white",
            "gridwidth": 2,
            "linecolor": "white",
            "showbackground": true,
            "ticks": "",
            "zerolinecolor": "white"
           },
           "zaxis": {
            "backgroundcolor": "#E5ECF6",
            "gridcolor": "white",
            "gridwidth": 2,
            "linecolor": "white",
            "showbackground": true,
            "ticks": "",
            "zerolinecolor": "white"
           }
          },
          "shapedefaults": {
           "line": {
            "color": "#2a3f5f"
           }
          },
          "ternary": {
           "aaxis": {
            "gridcolor": "white",
            "linecolor": "white",
            "ticks": ""
           },
           "baxis": {
            "gridcolor": "white",
            "linecolor": "white",
            "ticks": ""
           },
           "bgcolor": "#E5ECF6",
           "caxis": {
            "gridcolor": "white",
            "linecolor": "white",
            "ticks": ""
           }
          },
          "title": {
           "x": 0.05
          },
          "xaxis": {
           "automargin": true,
           "gridcolor": "white",
           "linecolor": "white",
           "ticks": "",
           "title": {
            "standoff": 15
           },
           "zerolinecolor": "white",
           "zerolinewidth": 2
          },
          "yaxis": {
           "automargin": true,
           "gridcolor": "white",
           "linecolor": "white",
           "ticks": "",
           "title": {
            "standoff": 15
           },
           "zerolinecolor": "white",
           "zerolinewidth": 2
          }
         }
        },
        "title": {
         "text": "Distinct and Duplicate Counts by FileName"
        },
        "xaxis": {
         "anchor": "y",
         "domain": [
          0,
          1
         ],
         "title": {
          "text": "FileName"
         }
        },
        "yaxis": {
         "anchor": "x",
         "domain": [
          0,
          1
         ],
         "title": {
          "text": "Count"
         }
        }
       }
      }
     },
     "metadata": {},
     "output_type": "display_data"
    }
   ],
   "source": [
    "import plotly.express as px\n",
    "fig = px.bar(df, x='FileName', y=['DistinctCount', 'DuplicateCount'], title='Distinct and Duplicate Counts by FileName',\n",
    "             labels={'value': 'Count', 'variable': 'Type'}, color_discrete_sequence=['#3498db', '#e74c3c'])\n",
    "\n",
    "# Show the plot\n",
    "\n",
    "fig.show()"
   ]
  },
  {
   "cell_type": "code",
   "execution_count": 49,
   "metadata": {},
   "outputs": [],
   "source": [
    "df = pd.read_csv(csv_path_list[0])"
   ]
  },
  {
   "cell_type": "code",
   "execution_count": 53,
   "metadata": {},
   "outputs": [],
   "source": [
    "import ast"
   ]
  },
  {
   "cell_type": "code",
   "execution_count": 59,
   "metadata": {},
   "outputs": [],
   "source": [
    "sample_ImageLink = df.iloc[0,7]\n",
    "zoomed_image_links = ast.literal_eval(df.iloc[0,8])\n",
    "sample_ZoomedImage_15x = zoomed_image_links[0][:-6]"
   ]
  },
  {
   "cell_type": "code",
   "execution_count": 61,
   "metadata": {},
   "outputs": [
    {
     "name": "stdout",
     "output_type": "stream",
     "text": [
      "https://assets.myntassets.com/f_webp,dpr_1.0,q_60,w_210,c_limit,fl_progressive/assets/images/25982586/2023/12/12/81efedf9-0fb2-4abf-bbd6-cba84f315c701702375306846-Being-Human-Men-Tshirts-7581702375306497-1.jpg ,\n",
      "https://assets.myntassets.com/f_webp,dpr_1.5,q_60,w_210,c_limit,fl_progressive/assets/images/25982586/2023/12/12/81efedf9-0fb2-4abf-bbd6-cba84f315c701702375306846-Being-Human-Men-Tshirts-7581702375306497-1.jpg\n"
     ]
    }
   ],
   "source": [
    "print(sample_ImageLink)\n",
    "print(sample_ZoomedImage_15x)"
   ]
  },
  {
   "cell_type": "code",
   "execution_count": 60,
   "metadata": {},
   "outputs": [
    {
     "data": {
      "text/plain": [
       "False"
      ]
     },
     "execution_count": 60,
     "metadata": {},
     "output_type": "execute_result"
    }
   ],
   "source": [
    "sample_ImageLink == sample_ZoomedImage_15x"
   ]
  },
  {
   "cell_type": "markdown",
   "metadata": {},
   "source": [
    "- It is nodiced that the zoomed image dpr (device pixel ratio) parameter in the URL is equal to dpr_1.5 and normal image is 1.0 \n",
    "- As we required all the images we can utilize the ZoomedImages Link for extraction of images  \n",
    "`Conclusion:` No need to drop the null values from df['ProductLink]\n"
   ]
  },
  {
   "cell_type": "code",
   "execution_count": 66,
   "metadata": {},
   "outputs": [],
   "source": [
    "# Considering first 1.5x image link and replacing it with 1.0x image link in ProductLink column"
   ]
  },
  {
   "cell_type": "code",
   "execution_count": 69,
   "metadata": {},
   "outputs": [
    {
     "data": {
      "text/plain": [
       "[WindowsPath('D:/Python/Test/selenium/artifacts/metadata/tshirts_21_01_24_pg434_cp_19200.csv'),\n",
       " WindowsPath('D:/Python/Test/selenium/artifacts/metadata/tshirts_21_01_24_pg50_cp_2500.csv'),\n",
       " WindowsPath('D:/Python/Test/selenium/artifacts/metadata/tshirts_22_01_24_pg1034_cp_10043.csv'),\n",
       " WindowsPath('D:/Python/Test/selenium/artifacts/metadata/tshirts_22_01_24_pg1085_cp_2539.csv'),\n",
       " WindowsPath('D:/Python/Test/selenium/artifacts/metadata/tshirts_22_01_24_pg1135_cp_2500.csv'),\n",
       " WindowsPath('D:/Python/Test/selenium/artifacts/metadata/tshirts_22_01_24_pg1635_cp_25000.csv'),\n",
       " WindowsPath('D:/Python/Test/selenium/artifacts/metadata/tshirts_22_01_24_pg1638_cp_150.csv'),\n",
       " WindowsPath('D:/Python/Test/selenium/artifacts/metadata/tshirts_22_01_24_pg1788_cp_7500.csv'),\n",
       " WindowsPath('D:/Python/Test/selenium/artifacts/metadata/tshirts_22_01_24_pg1900_cp_5500.csv'),\n",
       " WindowsPath('D:/Python/Test/selenium/artifacts/metadata/tshirts_22_01_24_pg2170_cp_13500.csv'),\n",
       " WindowsPath('D:/Python/Test/selenium/artifacts/metadata/tshirts_22_01_24_pg2370_cp_10000.csv'),\n",
       " WindowsPath('D:/Python/Test/selenium/artifacts/metadata/tshirts_22_01_24_pg2460_cp_4489.csv'),\n",
       " WindowsPath('D:/Python/Test/selenium/artifacts/metadata/tshirts_22_01_24_pg824_cp_19500.csv')]"
      ]
     },
     "execution_count": 69,
     "metadata": {},
     "output_type": "execute_result"
    }
   ],
   "source": [
    "#dropping duplicates in metadat file\n",
    "# Dropping duplicates in metadata file\n",
    "\n",
    "csv_path_list\n",
    "#df.drop_duplicates(inplace=True)"
   ]
  },
  {
   "cell_type": "code",
   "execution_count": 70,
   "metadata": {},
   "outputs": [],
   "source": [
    "df = pd.read_csv(csv_path_list[0])"
   ]
  },
  {
   "cell_type": "code",
   "execution_count": 71,
   "metadata": {},
   "outputs": [],
   "source": [
    "sample_ImageLink = df.iloc[0,7]\n",
    "zoomed_image_links = ast.literal_eval(df.iloc[0,8])\n",
    "sample_ZoomedImage_15x = zoomed_image_links[0][:-6]"
   ]
  },
  {
   "cell_type": "code",
   "execution_count": 72,
   "metadata": {},
   "outputs": [
    {
     "data": {
      "text/plain": [
       "'https://assets.myntassets.com/f_webp,dpr_1.0,q_60,w_210,c_limit,fl_progressive/assets/images/25982586/2023/12/12/81efedf9-0fb2-4abf-bbd6-cba84f315c701702375306846-Being-Human-Men-Tshirts-7581702375306497-1.jpg ,'"
      ]
     },
     "execution_count": 72,
     "metadata": {},
     "output_type": "execute_result"
    }
   ],
   "source": [
    "sample_ImageLink"
   ]
  },
  {
   "cell_type": "code",
   "execution_count": 73,
   "metadata": {},
   "outputs": [
    {
     "data": {
      "text/plain": [
       "'https://assets.myntassets.com/f_webp,dpr_1.5,q_60,w_210,c_limit,fl_progressive/assets/images/25982586/2023/12/12/81efedf9-0fb2-4abf-bbd6-cba84f315c701702375306846-Being-Human-Men-Tshirts-7581702375306497-1.jpg'"
      ]
     },
     "execution_count": 73,
     "metadata": {},
     "output_type": "execute_result"
    }
   ],
   "source": [
    "sample_ZoomedImage_15x"
   ]
  },
  {
   "cell_type": "code",
   "execution_count": 75,
   "metadata": {},
   "outputs": [],
   "source": [
    "sample_ZoomedImage_15x.count('dpr')\n",
    "# Replacing the 'dpr' with 'dpr_1.0'\n",
    "cleaned_image = sample_ZoomedImage_15x.replace('dpr_1.5', 'dpr_1.0')"
   ]
  },
  {
   "cell_type": "code",
   "execution_count": 76,
   "metadata": {},
   "outputs": [
    {
     "data": {
      "text/plain": [
       "'https://assets.myntassets.com/f_webp,dpr_1.0,q_60,w_210,c_limit,fl_progressive/assets/images/25982586/2023/12/12/81efedf9-0fb2-4abf-bbd6-cba84f315c701702375306846-Being-Human-Men-Tshirts-7581702375306497-1.jpg'"
      ]
     },
     "execution_count": 76,
     "metadata": {},
     "output_type": "execute_result"
    }
   ],
   "source": [
    "cleaned_image"
   ]
  },
  {
   "cell_type": "code",
   "execution_count": null,
   "metadata": {},
   "outputs": [],
   "source": [
    "import ast\n",
    "\n",
    "#for csv_path in csv_path_list:\n",
    "df = pd.read_csv(csv_path_list[0])\n",
    "\n",
    "for i in range(len(df)):\n",
    "    sample_ImageLink = df.at[i, 'Images']\n",
    "    zoomed_image_links = ast.literal_eval(df.at[i, 'ZoomedImages'])  # Convert string to list\n",
    "\n",
    "    # Assuming you want to replace the 'ProductLink' column with the cleaned links\n",
    "    cleaned_image = zoomed_image_links[i][:-6]\n",
    "    df.at[i, 'ProductLink'] = df.at[i, 'ProductLink'].replace(sample_ImageLink, cleaned_image)\n",
    "\n",
    "# Save the modified DataFrame back to the CSV file if needed\n",
    "#df.to_csv(csv_path, index=False)\n"
   ]
  }
 ],
 "metadata": {
  "kernelspec": {
   "display_name": "Python 3",
   "language": "python",
   "name": "python3"
  },
  "language_info": {
   "codemirror_mode": {
    "name": "ipython",
    "version": 3
   },
   "file_extension": ".py",
   "mimetype": "text/x-python",
   "name": "python",
   "nbconvert_exporter": "python",
   "pygments_lexer": "ipython3",
   "version": "3.11.5"
  }
 },
 "nbformat": 4,
 "nbformat_minor": 2
}
